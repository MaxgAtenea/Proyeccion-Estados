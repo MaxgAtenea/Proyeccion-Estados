{
 "cells": [
  {
   "cell_type": "code",
   "execution_count": 1,
   "id": "4a0f2c03",
   "metadata": {},
   "outputs": [],
   "source": [
    "import pandas as pd\n",
    "import numpy as np"
   ]
  },
  {
   "cell_type": "markdown",
   "id": "037d21ce-908f-4601-b3d9-7dc37df7c4a8",
   "metadata": {},
   "source": [
    "## **Objetivo**\n",
    "\n",
    "Realizar la ETL de la base maestra.\n",
    "\n",
    "**Pasos**\n",
    "\n",
    "- Merge la BDM de SAIGC para obtener la información del ICFES\n",
    "- Corregir irregularidades con los créditos consumidos:\n",
    "- 1.  Los créditos que están vacíos en términos de consumo (suma de creditos perdidos y aprobados) imputarlos con el consumo teórico (creditos programa / periodos) * número de matriculas. Asumir que el 98% era aprobación y el 2% de pérdida.\n",
    "- 2. Cuando el número de créditos consumidos no es igual a la suma de créditos pérdidos y aprobados, entonces ajustar el número de créditos consumidos con el de aprobados.  "
   ]
  },
  {
   "cell_type": "code",
   "execution_count": 2,
   "id": "9742467f",
   "metadata": {},
   "outputs": [],
   "source": [
    "df_maestra_posmedia = pd.read_excel(\"../data/BD_Maestra_2025_10_15.xlsx\", \"BDF\")\n",
    "df_maestra_SAIGC = pd.read_excel(\"../data/20250930_SAIGC_MAESTRA_JE_BENEFICIARIOS_V9.xlsx\") "
   ]
  },
  {
   "cell_type": "code",
   "execution_count": 82,
   "id": "394d8211",
   "metadata": {},
   "outputs": [],
   "source": [
    "df_maestra_posmedia_v2 = df_maestra_posmedia[df_maestra_posmedia[\"CUPO\"] == \"ACTIVO\"]\n",
    "\n",
    "df_maestra_SAIGC_unicos = (\n",
    "    df_maestra_SAIGC\n",
    "    .drop_duplicates(subset=\"ID_PERSONA\", keep=\"first\")\n",
    "    [[\"ID_PERSONA\", \"SABER11_PUNTAJE_GLOBAL\"]])\n",
    "\n",
    "df_maestra_posmedia_v3 = df_maestra_posmedia_v2.merge(\n",
    "    df_maestra_SAIGC_unicos,\n",
    "    on=\"ID_PERSONA\",\n",
    "    how=\"left\")\n",
    "\n",
    "df_maestra_posmedia_v3[\"SABER11_IMPUTADO\"] = df_maestra_posmedia_v3[\"SABER11_PUNTAJE_GLOBAL\"].isna()\n",
    "\n",
    "df_maestra_posmedia_v3[\"SABER11_PUNTAJE_GLOBAL\"] = (\n",
    "    df_maestra_posmedia_v3\n",
    "    .groupby([\"CONVOCATORIA\", \"NIVEL_FORMACION\"])[\"SABER11_PUNTAJE_GLOBAL\"]\n",
    "    .transform(lambda x: x.fillna(x.mean())))\n",
    "\n",
    "df_maestra_posmedia_v3[\"SABER11_IMPUTADO\"] = np.where(\n",
    "    df_maestra_posmedia_v3[\"SABER11_IMPUTADO\"], \"IMPUTADO\", \"ORIGINAL\")"
   ]
  },
  {
   "cell_type": "code",
   "execution_count": 83,
   "id": "726c0c29",
   "metadata": {},
   "outputs": [],
   "source": [
    "# Inicializa validador\n",
    "df_maestra_posmedia_v3[\"validador\"] = np.where(\n",
    "    df_maestra_posmedia_v3[\"ACU_CRED_CONSUMIDOS\"] ==\n",
    "    df_maestra_posmedia_v3[\"ACU_CRED_APROBADOS\"] + df_maestra_posmedia_v3[\"ACU_CRED_PERDIDOS\"],\n",
    "    \"OK\",\n",
    "    \"AJUSTADO\"\n",
    ")\n",
    "\n",
    "# Ajuste 1: inconsistencia general\n",
    "df_maestra_posmedia_v3.loc[df_maestra_posmedia_v3[\"validador\"] == \"AJUSTADO\", \"ACU_CRED_CONSUMIDOS\"] = (\n",
    "    df_maestra_posmedia_v3[\"ACU_CRED_APROBADOS\"] + df_maestra_posmedia_v3[\"ACU_CRED_PERDIDOS\"]\n",
    ")\n",
    "df_maestra_posmedia_v3.loc[df_maestra_posmedia_v3[\"validador\"] == \"AJUSTADO\", \"validador\"] = \"AJUSTADO_GENERAL\"\n",
    "\n",
    "# Ajuste 2: consumidos=0/Na y perdidos>0\n",
    "cond1 = (\n",
    "    ((df_maestra_posmedia_v3[\"ACU_CRED_CONSUMIDOS\"].isna()) | (df_maestra_posmedia_v3[\"ACU_CRED_CONSUMIDOS\"] == 0)) &\n",
    "    ((df_maestra_posmedia_v3[\"ACU_CRED_APROBADOS\"].isna()) | (df_maestra_posmedia_v3[\"ACU_CRED_APROBADOS\"] == 0)) &\n",
    "    (df_maestra_posmedia_v3[\"ACU_CRED_PERDIDOS\"] > 0)\n",
    ")\n",
    "df_maestra_posmedia_v3.loc[cond1, \"ACU_CRED_CONSUMIDOS\"] = (\n",
    "    df_maestra_posmedia_v3[\"ACU_CRED_APROBADOS\"].fillna(0) +\n",
    "    df_maestra_posmedia_v3[\"ACU_CRED_PERDIDOS\"].fillna(0)\n",
    ")\n",
    "df_maestra_posmedia_v3.loc[cond1, \"validador\"] = \"AJUSTADO_PERDIDOS\"\n",
    "\n",
    "# Ajuste 3: todos 0/Na → imputación teórica\n",
    "cond2 = (\n",
    "    ((df_maestra_posmedia_v3[\"ACU_CRED_CONSUMIDOS\"].isna()) | (df_maestra_posmedia_v3[\"ACU_CRED_CONSUMIDOS\"] == 0)) &\n",
    "    ((df_maestra_posmedia_v3[\"ACU_CRED_APROBADOS\"].isna()) | (df_maestra_posmedia_v3[\"ACU_CRED_APROBADOS\"] == 0)) &\n",
    "    ((df_maestra_posmedia_v3[\"ACU_CRED_PERDIDOS\"].isna()) | (df_maestra_posmedia_v3[\"ACU_CRED_PERDIDOS\"] == 0))\n",
    ")\n",
    "\n",
    "base = (\n",
    "    (df_maestra_posmedia_v3[\"CREDITOS_PROGRAMA\"] / df_maestra_posmedia_v3[\"PERIODOS_BD_SNIES\"])\n",
    "    * df_maestra_posmedia_v3[\"CUENTA_MATRICULADO\"]\n",
    ")\n",
    "df_maestra_posmedia_v3.loc[cond2, \"ACU_CRED_APROBADOS\"] = (base * 0.95).fillna(0).astype(int)\n",
    "df_maestra_posmedia_v3.loc[cond2, \"ACU_CRED_PERDIDOS\"] = (base * 0.05).fillna(0).astype(int)\n",
    "df_maestra_posmedia_v3.loc[cond2, \"ACU_CRED_CONSUMIDOS\"] = (\n",
    "    df_maestra_posmedia_v3[\"ACU_CRED_APROBADOS\"] + df_maestra_posmedia_v3[\"ACU_CRED_PERDIDOS\"]\n",
    ")\n",
    "df_maestra_posmedia_v3.loc[cond2, \"validador\"] = \"AJUSTADO_IMPUTADO\"\n"
   ]
  },
  {
   "cell_type": "code",
   "execution_count": 84,
   "id": "d1add1d0",
   "metadata": {},
   "outputs": [],
   "source": [
    "# Crear columna de control para registrar los reemplazos\n",
    "df_maestra_posmedia_v3[\"REEMPLAZO_ESTADO\"] = \"\"\n",
    "\n",
    "# --- Reemplazo para ESTADO_20242_CIERRE ---\n",
    "cond_20242 = df_maestra_posmedia_v3[\"ESTADO_20242_CIERRE\"] == \"EN VERIFICACION\"\n",
    "df_maestra_posmedia_v3.loc[cond_20242, \"REEMPLAZO_ESTADO\"] = \"ESTADO_20242_CIERRE → ULTIMO_ESTADO\"\n",
    "df_maestra_posmedia_v3.loc[cond_20242, \"ESTADO_20242_CIERRE\"] = df_maestra_posmedia_v3.loc[cond_20242, \"ULTIMO_ESTADO\"]\n",
    "\n",
    "# --- Reemplazo para ESTADO_20251_CIERRE ---\n",
    "cond_20251 = df_maestra_posmedia_v3[\"ESTADO_20251_CIERRE\"] == \"EN VERIFICACION\"\n",
    "df_maestra_posmedia_v3.loc[cond_20251, \"REEMPLAZO_ESTADO\"] = (\n",
    "    df_maestra_posmedia_v3[\"REEMPLAZO_ESTADO\"].astype(str).replace(\"\", np.nan) + \n",
    "    \" | ESTADO_20251_CIERRE → ULTIMO_ESTADO\"\n",
    ").fillna(\"ESTADO_20251_CIERRE → ULTIMO_ESTADO\")\n",
    "df_maestra_posmedia_v3.loc[cond_20251, \"ESTADO_20251_CIERRE\"] = df_maestra_posmedia_v3.loc[cond_20251, \"ULTIMO_ESTADO\"]"
   ]
  },
  {
   "cell_type": "markdown",
   "id": "1916f033-a607-4d80-8962-db02801c9cf1",
   "metadata": {},
   "source": [
    "**Crear las columnas \"ESTADO_20253_INICIO\" y \"ESTADO_20251_CIERRE\"**"
   ]
  },
  {
   "cell_type": "code",
   "execution_count": null,
   "id": "50fc231a",
   "metadata": {},
   "outputs": [],
   "source": [
    "df_maestra_posmedia_v3.to_excel(\"../output/BASE_MAESTRA_AJUSTADA_BMD15102025.xlsx\")"
   ]
  }
 ],
 "metadata": {
  "kernelspec": {
   "display_name": "Python 3 (ipykernel)",
   "language": "python",
   "name": "python3"
  },
  "language_info": {
   "codemirror_mode": {
    "name": "ipython",
    "version": 3
   },
   "file_extension": ".py",
   "mimetype": "text/x-python",
   "name": "python",
   "nbconvert_exporter": "python",
   "pygments_lexer": "ipython3",
   "version": "3.13.5"
  }
 },
 "nbformat": 4,
 "nbformat_minor": 5
}
