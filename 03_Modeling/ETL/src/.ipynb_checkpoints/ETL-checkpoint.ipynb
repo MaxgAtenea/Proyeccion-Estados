{
 "cells": [
  {
   "cell_type": "markdown",
   "id": "03fbee06-d5ea-49d5-81e3-30a06b9fcf88",
   "metadata": {},
   "source": [
    "## **Objetivo**\n",
    "\n",
    "Realizar la ETL de la base maestra.\n",
    "\n",
    "**Pasos**\n",
    "\n",
    "- Merge con el ICFES\n",
    "- Corregir irregularidades con los créditos consumidos:\n",
    "- 1.  Los créditos que están vacíos en términos de consumo (suma de creditos perdidos y aprobados) imputarlos con el consumo teórico (creditos programa / periodos) * número de matriculas. Asumir que el 98% era aprobación y el 2% de pérdida.\n",
    "- 2. Cuando el número de créditos consumidos no es igual a la suma de créditos pérdidos y aprobados, entonces ajustar el número de créditos consumidos con el de aprobados.  "
   ]
  },
  {
   "cell_type": "code",
   "execution_count": 1,
   "id": "b91adde8-759a-4b17-8a71-14fcae6b107e",
   "metadata": {},
   "outputs": [],
   "source": [
    "import pandas as pd"
   ]
  },
  {
   "cell_type": "code",
   "execution_count": null,
   "id": "72242d17-165e-4370-9034-77f3054230df",
   "metadata": {},
   "outputs": [],
   "source": [
    "data_raw = pd.read_excel(\"../data/<nombre base maestra>.xlsx\")"
   ]
  }
 ],
 "metadata": {
  "kernelspec": {
   "display_name": "Python 3 (ipykernel)",
   "language": "python",
   "name": "python3"
  },
  "language_info": {
   "codemirror_mode": {
    "name": "ipython",
    "version": 3
   },
   "file_extension": ".py",
   "mimetype": "text/x-python",
   "name": "python",
   "nbconvert_exporter": "python",
   "pygments_lexer": "ipython3",
   "version": "3.13.5"
  }
 },
 "nbformat": 4,
 "nbformat_minor": 5
}
