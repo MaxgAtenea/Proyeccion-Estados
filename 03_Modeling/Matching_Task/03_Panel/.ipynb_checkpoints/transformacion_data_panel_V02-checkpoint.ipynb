{
 "cells": [
  {
   "cell_type": "markdown",
   "id": "3fad81d3",
   "metadata": {},
   "source": [
    " LIBRERIAS"
   ]
  },
  {
   "cell_type": "code",
   "execution_count": 49,
   "id": "4bcc18be",
   "metadata": {},
   "outputs": [],
   "source": [
    "import os\n",
    "import pandas as pd\n",
    "import re"
   ]
  },
  {
   "cell_type": "markdown",
   "id": "89df546b",
   "metadata": {},
   "source": [
    "BASE DE DATOS"
   ]
  },
  {
   "cell_type": "code",
   "execution_count": 2,
   "id": "257bc93a",
   "metadata": {},
   "outputs": [],
   "source": [
    "df = pd.read_excel(r\"D:\\Proyecto_proyección_estados\\0. Maestra\\BASE_MAESTRA AJUSTADA_15102025.xlsx\")"
   ]
  },
  {
   "cell_type": "markdown",
   "id": "53d382fa",
   "metadata": {},
   "source": [
    "Supuesto sobre JE3 su cierre en 20252 es igual a su inicio"
   ]
  },
  {
   "cell_type": "code",
   "execution_count": 51,
   "id": "49f064e7",
   "metadata": {},
   "outputs": [],
   "source": [
    "cond = df[\"CONVOCATORIA\"] == \"JE3\"\n",
    "df.loc[cond, \"ESTADO_20252_CIERRE\"] = df.loc[cond, \"ESTADO_20252_INICIO\"]\n"
   ]
  },
  {
   "cell_type": "markdown",
   "id": "f874aa84",
   "metadata": {},
   "source": [
    "PROCESAMIENTO"
   ]
  },
  {
   "cell_type": "code",
   "execution_count": 52,
   "id": "4c603dc2",
   "metadata": {},
   "outputs": [],
   "source": [
    "df_activos = df[df[\"CUPO\"] == \"ACTIVO\"].copy()"
   ]
  },
  {
   "cell_type": "code",
   "execution_count": 53,
   "id": "a6a4d8a1",
   "metadata": {},
   "outputs": [],
   "source": [
    "periodos = [\"ESTADO_20212_INICIO\",\t\n",
    "            \"ESTADO_20212_CIERRE\",\n",
    "            \"ESTADO_20221_INICIO\",\n",
    "            \"ESTADO_20221_CIERRE\",\n",
    "            \"ESTADO_20222_INICIO\",\t\n",
    "            \"ESTADO_20222_CIERRE\",\n",
    "            \"ESTADO_20231_INICIO\",\t\n",
    "            \"ESTADO_20231_CIERRE\",\n",
    "            \"ESTADO_20232_INICIO\",\t\n",
    "            \"ESTADO_20232_CIERRE\",\n",
    "            \"ESTADO_20241_INICIO\",\t\n",
    "            \"ESTADO_20241_CIERRE\",\n",
    "            \"ESTADO_20242_INICIO\",\n",
    "            \"ESTADO_20242_CIERRE\",\n",
    "            \"ESTADO_20251_INICIO\",\n",
    "            \"ESTADO_20251_CIERRE\",\n",
    "            \"ESTADO_20252_INICIO\",\t\n",
    "            \"ESTADO_20252_CIERRE\"]"
   ]
  },
  {
   "cell_type": "markdown",
   "id": "2dc21add",
   "metadata": {},
   "source": [
    "Esto es nuevo"
   ]
  },
  {
   "cell_type": "code",
   "execution_count": 54,
   "id": "81f8a7f6",
   "metadata": {},
   "outputs": [
    {
     "data": {
      "text/plain": [
       "['ABANDONO DE FORMACION',\n",
       " 'ABANDONO DE FORMACION ',\n",
       " 'APLAZADO',\n",
       " 'APLAZAMIENTO ADICIONAL',\n",
       " 'APLAZAMIENTO EXTEMPORANEO',\n",
       " 'APLAZAMIENTO INSTITUCIONAL',\n",
       " 'EN VERIFICACION',\n",
       " 'FALLECIDO',\n",
       " 'GRADUADO',\n",
       " 'MATRICULADO',\n",
       " 'MATRICULADO BECA IES',\n",
       " 'NO APLICA',\n",
       " 'PERDIDA DEL BENEFICIO',\n",
       " 'SIN BOLSA DE CREDITOS',\n",
       " 'SIN RENOVACION',\n",
       " 'TERMINACION DE MATERIAS',\n",
       " 'TRASLADO IES']"
      ]
     },
     "execution_count": 54,
     "metadata": {},
     "output_type": "execute_result"
    }
   ],
   "source": [
    "# Extraer los valores únicos de todas esas columnas\n",
    "estados_unicos = pd.unique(df_activos[periodos].values.ravel())\n",
    "\n",
    "# Quitar nulos/NaN y ordenar alfabéticamente\n",
    "estados_unicos = sorted([str(e) for e in estados_unicos if pd.notna(e)])\n",
    "\n",
    "estados_unicos"
   ]
  },
  {
   "cell_type": "code",
   "execution_count": 55,
   "id": "300669d6",
   "metadata": {},
   "outputs": [],
   "source": [
    "reemplazar = {\n",
    "    'ABANDONO DE FORMACION':\"Abandono\",\n",
    "    'ABANDONO DE FORMACION ':\"Abandono\",\n",
    "    'APLAZADO': \"Aplazado\",\n",
    "    'APLAZAMIENTO ADICIONAL': \"Aplazado\",\n",
    "    'APLAZAMIENTO EXTEMPORANEO': \"Aplazado\",\n",
    "    'APLAZAMIENTO INSTITUCIONAL': \"Aplazado\",\n",
    "    'EN VERIFICACION': \"En Verificacion\",\n",
    "    'FALLECIDO': \"Abandono\",\n",
    "    'GRADUADO': \"Graduado\",\n",
    "    'MATRICULADO': \"Matriculado\",\n",
    "    'MATRICULADO BECA IES': \"Matriculado\",\n",
    "    'NO APLICA': \"No aplica\",\n",
    "    'PERDIDA DEL BENEFICIO': \"Pérdida del Beneficio\",\n",
    "    'SIN BOLSA DE CREDITOS': \"Sin bolsa de creditos\",\n",
    "    'SIN RENOVACION': \"Abandono\",\n",
    "    'SON BOLSA DE CREDITOS': \"Sin bolsa de creditos\",\n",
    "    'TERMINACION DE MATERIAS': \"Graduado\",\n",
    "    'TRASLADO IES': \"Abandono\",\n",
    "    'FINALIZACIÓN 100%':\"Graduado\"}"
   ]
  },
  {
   "cell_type": "code",
   "execution_count": 56,
   "id": "25f899c3",
   "metadata": {},
   "outputs": [
    {
     "name": "stdout",
     "output_type": "stream",
     "text": [
      "ESTADO_20212_INICIO ['Abandono', 'Aplazado', 'Matriculado', 'No aplica']\n",
      "ESTADO_20212_CIERRE ['Abandono', 'Aplazado', 'Matriculado', 'No aplica']\n",
      "ESTADO_20221_INICIO ['Abandono', 'Aplazado', 'Matriculado', 'No aplica']\n",
      "ESTADO_20221_CIERRE ['Abandono', 'Aplazado', 'Matriculado', 'No aplica']\n",
      "ESTADO_20222_INICIO ['Abandono', 'Aplazado', 'Matriculado', 'No aplica']\n",
      "ESTADO_20222_CIERRE ['Abandono', 'Aplazado', 'Matriculado', 'No aplica', 'Pérdida del Beneficio']\n",
      "ESTADO_20231_INICIO ['Abandono', 'Aplazado', 'Graduado', 'Matriculado', 'No aplica', 'Pérdida del Beneficio']\n",
      "ESTADO_20231_CIERRE ['Abandono', 'Aplazado', 'Graduado', 'Matriculado', 'No aplica', 'Pérdida del Beneficio']\n",
      "ESTADO_20232_INICIO ['Abandono', 'Aplazado', 'Graduado', 'Matriculado', 'No aplica', 'Pérdida del Beneficio', 'Sin bolsa de creditos']\n",
      "ESTADO_20232_CIERRE ['Abandono', 'Aplazado', 'Graduado', 'Matriculado', 'No aplica', 'Pérdida del Beneficio', 'Sin bolsa de creditos']\n",
      "ESTADO_20241_INICIO ['Abandono', 'Aplazado', 'Graduado', 'Matriculado', 'No aplica', 'Pérdida del Beneficio', 'Sin bolsa de creditos']\n",
      "ESTADO_20241_CIERRE ['Abandono', 'Aplazado', 'Graduado', 'Matriculado', 'No aplica', 'Pérdida del Beneficio', 'Sin bolsa de creditos']\n",
      "ESTADO_20242_INICIO ['Abandono', 'Aplazado', 'En Verificacion', 'Graduado', 'Matriculado', 'No aplica', 'Pérdida del Beneficio', 'Sin bolsa de creditos']\n",
      "ESTADO_20242_CIERRE ['Abandono', 'Aplazado', 'Graduado', 'Matriculado', 'No aplica', 'Pérdida del Beneficio', 'Sin bolsa de creditos']\n",
      "ESTADO_20251_INICIO ['Abandono', 'Aplazado', 'En Verificacion', 'Graduado', 'Matriculado', 'No aplica', 'Pérdida del Beneficio', 'Sin bolsa de creditos']\n",
      "ESTADO_20251_CIERRE ['Abandono', 'Aplazado', 'Graduado', 'Matriculado', 'No aplica', 'Pérdida del Beneficio', 'Sin bolsa de creditos']\n",
      "ESTADO_20252_INICIO ['Abandono', 'Aplazado', 'En Verificacion', 'Graduado', 'Matriculado', 'Pérdida del Beneficio', 'Sin bolsa de creditos']\n",
      "ESTADO_20252_CIERRE ['Abandono', 'Aplazado', 'En Verificacion', 'Graduado', 'Matriculado', 'Pérdida del Beneficio']\n"
     ]
    }
   ],
   "source": [
    "# Reemplazo en todas las columnas de periodos\n",
    "df_activos[periodos] = df_activos[periodos].replace(reemplazar)\n",
    "\n",
    "# Opcional: verificar los valores únicos después del reemplazo\n",
    "for col in periodos:\n",
    "    print(col, sorted(df_activos[col].dropna().unique()))"
   ]
  },
  {
   "cell_type": "markdown",
   "id": "3193f042",
   "metadata": {},
   "source": [
    "IMPUTAR CRÉDITOS PERDIDOS Y APROBADOS CON XGBOOST"
   ]
  },
  {
   "cell_type": "markdown",
   "id": "3d2ebaa0",
   "metadata": {},
   "source": [
    "NUEVAS VARIABLES"
   ]
  },
  {
   "cell_type": "code",
   "execution_count": 57,
   "id": "d4c8cd12",
   "metadata": {},
   "outputs": [],
   "source": [
    "df_activos[\"%_PERDIDA\"] = df_activos[\"ACU_CRED_PERDIDOS\"] / df_activos[\"CREDITOS_PROGRAMA\"]\n",
    "df_activos[\"%_AVANCE_APROBACION\"] = df_activos[\"ACU_CRED_APROBADOS\"] / df_activos[\"CREDITOS_PROGRAMA\"]"
   ]
  },
  {
   "cell_type": "code",
   "execution_count": 58,
   "id": "204b97b7",
   "metadata": {},
   "outputs": [
    {
     "name": "stdout",
     "output_type": "stream",
     "text": [
      "count    45615.000000\n",
      "mean         0.051173\n",
      "std          0.095390\n",
      "min          0.000000\n",
      "25%          0.000000\n",
      "50%          0.012048\n",
      "75%          0.058364\n",
      "max          1.510204\n",
      "Name: %_PERDIDA, dtype: float64\n"
     ]
    },
    {
     "data": {
      "text/plain": [
       "<Axes: >"
      ]
     },
     "execution_count": 58,
     "metadata": {},
     "output_type": "execute_result"
    },
    {
     "data": {
      "image/png": "[encoded data removed]",
      "text/plain": [
       "<Figure size 640x480 with 1 Axes>"
      ]
     },
     "metadata": {},
     "output_type": "display_data"
    }
   ],
   "source": [
    "print(df_activos[\"%_PERDIDA\"].describe())\n",
    "df_activos[\"%_PERDIDA\"].hist(bins=20)"
   ]
  },
  {
   "cell_type": "code",
   "execution_count": 59,
   "id": "41bf8624",
   "metadata": {},
   "outputs": [
    {
     "name": "stdout",
     "output_type": "stream",
     "text": [
      "count    44320.000000\n",
      "mean         0.331437\n",
      "std          0.230280\n",
      "min          0.000000\n",
      "25%          0.147348\n",
      "50%          0.283333\n",
      "75%          0.469819\n",
      "max          3.020408\n",
      "Name: %_AVANCE_APROBACION, dtype: float64\n"
     ]
    },
    {
     "data": {
      "text/plain": [
       "<Axes: >"
      ]
     },
     "execution_count": 59,
     "metadata": {},
     "output_type": "execute_result"
    },
    {
     "data": {
      "image/png": "[encoded data removed]",
      "text/plain": [
       "<Figure size 640x480 with 1 Axes>"
      ]
     },
     "metadata": {},
     "output_type": "display_data"
    }
   ],
   "source": [
    "print(df_activos[\"%_AVANCE_APROBACION\"].describe())\n",
    "df_activos[\"%_AVANCE_APROBACION\"].hist(bins=20)"
   ]
  },
  {
   "cell_type": "code",
   "execution_count": 60,
   "id": "3337e9b4",
   "metadata": {},
   "outputs": [],
   "source": [
    "nueva_variable_estado = {\"20212_ESTADO\":\"ESTADO_20212_CIERRE\",\n",
    "                        \"20221_ESTADO\":\"ESTADO_20221_CIERRE\",\n",
    "                        \"20222_ESTADO\":\"ESTADO_20222_CIERRE\",\n",
    "                        \"20231_ESTADO\":\"ESTADO_20231_CIERRE\",\n",
    "                        \"20232_ESTADO\":\"ESTADO_20232_CIERRE\",\n",
    "                        \"20241_ESTADO\":\"ESTADO_20241_CIERRE\",\n",
    "                        \"20242_ESTADO\":\"ESTADO_20242_CIERRE\",\n",
    "                        \"20251_ESTADO\":\"ESTADO_20251_CIERRE\",\n",
    "                        \"20252_ESTADO\":\"ESTADO_20252_CIERRE\"}\n",
    "\n",
    "rename_dict = {v: k for k, v in nueva_variable_estado.items()}\n",
    "df_activos = df_activos.rename(columns=rename_dict)"
   ]
  },
  {
   "cell_type": "code",
   "execution_count": 61,
   "id": "6627bbdf",
   "metadata": {},
   "outputs": [],
   "source": [
    "nueva_variable_estado_INICIO = {\"20212_ESTADO_INICIO\":\"ESTADO_20212_INICIO\",\n",
    "                        \"20221_ESTADO_INICIO\":\"ESTADO_20221_INICIO\",\n",
    "                        \"20222_ESTADO_INICIO\":\"ESTADO_20222_INICIO\",\n",
    "                        \"20231_ESTADO_INICIO\":\"ESTADO_20231_INICIO\",\n",
    "                        \"20232_ESTADO_INICIO\":\"ESTADO_20232_INICIO\",\n",
    "                        \"20241_ESTADO_INICIO\":\"ESTADO_20241_INICIO\",\n",
    "                        \"20242_ESTADO_INICIO\":\"ESTADO_20242_INICIO\",\n",
    "                        \"20251_ESTADO_INICIO\":\"ESTADO_20251_INICIO\",\n",
    "                        \"20252_ESTADO_INICIO\":\"ESTADO_20252_INICIO\"}\n",
    "\n",
    "rename_dict = {v: k for k, v in nueva_variable_estado_INICIO.items()}\n",
    "df_activos = df_activos.rename(columns=rename_dict)\n",
    "\n"
   ]
  },
  {
   "cell_type": "code",
   "execution_count": 62,
   "id": "64f690fa",
   "metadata": {},
   "outputs": [],
   "source": [
    "def contar_estado_acumulado(df, columnas_estado, estado_objetivo, sufijo=\"_N_\"):\n",
    "\n",
    "    acumulado = pd.Series(0, index=df.index)\n",
    "\n",
    "    for col in columnas_estado:\n",
    "        nueva_col = col.replace(\"_ESTADO\", f\"{sufijo}{estado_objetivo}\")\n",
    "\n",
    "        acumulado = acumulado + (df[col] == estado_objetivo).astype(int)\n",
    "        df[nueva_col] = acumulado\n",
    "\n",
    "    return df"
   ]
  },
  {
   "cell_type": "code",
   "execution_count": 63,
   "id": "188f59bf",
   "metadata": {},
   "outputs": [],
   "source": [
    "\n",
    "cols_estado = [\"20212_ESTADO\", \"20221_ESTADO\", \"20222_ESTADO\",\n",
    "               \"20231_ESTADO\", \"20232_ESTADO\", \"20241_ESTADO\",\n",
    "               \"20242_ESTADO\", \"20251_ESTADO\", \"20252_ESTADO\"]\n",
    "\n",
    "df_activos = contar_estado_acumulado(df_activos, cols_estado, \"Matriculado\")\n",
    "df_activos = contar_estado_acumulado(df_activos, cols_estado, \"Aplazado\")\n",
    "df_activos = contar_estado_acumulado(df_activos, cols_estado, \"Abandono\")\n",
    "df_activos = contar_estado_acumulado(df_activos, cols_estado, \"Sin bolsa de creditos\")\n",
    "df_activos = contar_estado_acumulado(df_activos, cols_estado, \"Pérdida del Beneficio\")\n",
    "df_activos = contar_estado_acumulado(df_activos, cols_estado, \"Graduado\")\n",
    "\n",
    "df_activos[\"N_Matriculas\"] = df_activos[\"20251_N_Matriculado\"]\n",
    "\n"
   ]
  },
  {
   "cell_type": "code",
   "execution_count": 64,
   "id": "224bfa40",
   "metadata": {},
   "outputs": [],
   "source": [
    "N_Matriculas_adicionales = [\n",
    "    \"20212_N_Matriculas_adicionales\",\n",
    "    \"20221_N_Matriculas_adicionales\",\n",
    "    \"20222_N_Matriculas_adicionales\",\n",
    "    \"20231_N_Matriculas_adicionales\",\n",
    "    \"20232_N_Matriculas_adicionales\",\n",
    "    \"20241_N_Matriculas_adicionales\",\n",
    "    \"20242_N_Matriculas_adicionales\",\n",
    "    \"20251_N_Matriculas_adicionales\",\n",
    "    \"20252_N_Matriculas_adicionales\"]\n",
    "\n",
    "\n",
    "N_Matriculado = [\n",
    "    \"20212_N_Matriculado\",\n",
    "    \"20221_N_Matriculado\",\n",
    "    \"20222_N_Matriculado\",\n",
    "    \"20231_N_Matriculado\",\n",
    "    \"20232_N_Matriculado\",\n",
    "    \"20241_N_Matriculado\",\n",
    "    \"20242_N_Matriculado\",\n",
    "    \"20251_N_Matriculado\",\n",
    "    \"20252_N_Matriculado\"]\n",
    "\n",
    "# Calcular para cada periodo\n",
    "for col_in, col_out in zip(N_Matriculado, N_Matriculas_adicionales):\n",
    "    df_activos[col_out] = (df_activos[col_in] - df_activos[\"PERIODOS_BD_SNIES\"]).clip(lower=0)"
   ]
  },
  {
   "cell_type": "markdown",
   "id": "605cb80e",
   "metadata": {},
   "source": [
    "DISTRIBUCIÓN DE CRÉDITOS PERDIDOS RETROACTIVAMENTE"
   ]
  },
  {
   "cell_type": "code",
   "execution_count": 65,
   "id": "683801fc",
   "metadata": {},
   "outputs": [],
   "source": [
    "\n",
    "\n",
    "Distr_tecnico = {\n",
    "    1:  [1.00],\n",
    "    2:  [0.90, 1.00],\n",
    "    3:  [0.75, 0.91, 1.00],\n",
    "    4:  [0.70, 0.85, 0.94, 1.00],\n",
    "    5:  [0.67, 0.81, 0.90, 0.95, 1.00],\n",
    "    6:  [0.65, 0.78, 0.86, 0.92, 0.96, 1.00],\n",
    "    7:  [0.63, 0.76, 0.84, 0.89, 0.94, 0.97, 1.00],\n",
    "    8:  [0.61, 0.74, 0.82, 0.87, 0.91, 0.95, 0.98, 1.00],\n",
    "    9:  [0.60, 0.73, 0.80, 0.85, 0.89, 0.93, 0.95, 0.98, 1.00],\n",
    "    10: [0.59, 0.71, 0.79, 0.84, 0.88, 0.91, 0.94, 0.96, 0.98, 1.00],\n",
    "    11: [0.58, 0.70, 0.77, 0.82, 0.86, 0.89, 0.92, 0.94, 0.96, 0.98, 1.00],\n",
    "    12: [0.57, 0.69, 0.76, 0.81, 0.85, 0.88, 0.91, 0.93, 0.95, 0.97, 0.98, 1.00]\n",
    "}\n",
    "\n",
    "Distr_tecnologico = {\n",
    "    1:  [1.00],\n",
    "    2:  [0.46, 1.00],\n",
    "    3:  [0.35, 0.76, 1.00],\n",
    "    4:  [0.30, 0.65, 0.86, 1.00],\n",
    "    5:  [0.27, 0.59, 0.77, 0.90, 1.00],\n",
    "    6:  [0.25, 0.54, 0.71, 0.83, 0.92, 1.00],\n",
    "    7:  [0.24, 0.51, 0.67, 0.78, 0.87, 0.94, 1.00],\n",
    "    8:  [0.22, 0.48, 0.63, 0.74, 0.82, 0.89, 0.95, 1.00],\n",
    "    9:  [0.21, 0.46, 0.61, 0.71, 0.79, 0.86, 0.91, 0.96, 1.00],\n",
    "    10: [0.21, 0.45, 0.59, 0.68, 0.76, 0.82, 0.88, 0.92, 0.96, 1.00],\n",
    "    11: [0.20, 0.43, 0.57, 0.66, 0.74, 0.80, 0.85, 0.89, 0.93, 0.97, 1.00],\n",
    "    12: [0.19, 0.42, 0.55, 0.64, 0.72, 0.78, 0.83, 0.87, 0.91, 0.94, 0.97, 1.00],\n",
    "    13: [0.19, 0.41, 0.54, 0.63, 0.70, 0.76, 0.80, 0.85, 0.88, 0.92, 0.95, 0.97, 1.00],\n",
    "    14: [0.19, 0.40, 0.52, 0.61, 0.68, 0.74, 0.79, 0.83, 0.86, 0.90, 0.93, 0.95, 0.98, 1.00],\n",
    "    15: [0.18, 0.39, 0.51, 0.60, 0.67, 0.72, 0.77, 0.81, 0.85, 0.88, 0.91, 0.93, 0.96, 0.98, 1.00],\n",
    "    16: [0.18, 0.38, 0.50, 0.59, 0.66, 0.71, 0.75, 0.79, 0.83, 0.86, 0.89, 0.91, 0.94, 0.96, 0.98, 1.00]\n",
    "}\n",
    "\n",
    "\n",
    "\n",
    "\n",
    "Distr_universitario = {\n",
    "    1:  [1.00],\n",
    "    2:  [0.67, 1.00],\n",
    "    3:  [0.56, 0.84, 1.00],\n",
    "    4:  [0.50, 0.75, 0.90, 1.00],\n",
    "    5:  [0.46, 0.69, 0.83, 0.93, 1.00],\n",
    "    6:  [0.44, 0.65, 0.78, 0.87, 0.943, 1.00],\n",
    "    7:  [0.42, 0.62, 0.75, 0.83, 0.90, 0.95, 1.00],\n",
    "    8:  [0.40, 0.60, 0.72, 0.80, 0.86, 0.92, 0.96, 1.00],\n",
    "    9:  [0.39, 0.58, 0.69, 0.77, 0.84, 0.89, 0.93, 0.97, 1.00],\n",
    "    10: [0.38, 0.56, 0.67, 0.75, 0.81, 0.86, 0.90, 0.94, 0.97, 1.00],\n",
    "    11: [0.37, 0.55, 0.66, 0.73, 0.79, 0.84, 0.88, 0.92, 0.95, 0.97, 1.00],\n",
    "    12: [0.36, 0.54, 0.64, 0.72, 0.77, 0.82, 0.86, 0.90, 0.93, 0.95, 0.98, 1.00],\n",
    "    13: [0.35, 0.53, 0.63, 0.70, 0.76, 0.80, 0.84, 0.88, 0.91, 0.93, 0.96, 0.98, 1.00],\n",
    "    14: [0.35, 0.52, 0.62, 0.69, 0.74, 0.79, 0.83, 0.86, 0.89, 0.92, 0.94, 0.96, 0.98, 1.00],\n",
    "    15: [0.34, 0.51, 0.61, 0.68, 0.73, 0.78, 0.81, 0.85, 0.88, 0.90, 0.92, 0.95, 0.97, 0.98, 1.00],\n",
    "    16: [0.33, 0.50, 0.60, 0.67, 0.72, 0.76, 0.80, 0.83, 0.86, 0.89, 0.91, 0.93, 0.95, 0.97, 0.98, 1.00],\n",
    "    17: [0.33, 0.49, 0.59, 0.66, 0.71, 0.75, 0.79, 0.82, 0.85, 0.87, 0.90, 0.92, 0.94, 0.95, 0.97, 0.99, 1.00],\n",
    "    18: [0.32, 0.49, 0.58, 0.65, 0.70, 0.74, 0.78, 0.81, 0.84, 0.86, 0.88, 0.91, 0.92, 0.94, 0.96, 0.97, 0.99, 1.00]\n",
    "}\n",
    "\n",
    "\n"
   ]
  },
  {
   "cell_type": "code",
   "execution_count": 66,
   "id": "0001687b",
   "metadata": {},
   "outputs": [],
   "source": [
    "def distribuir_perdida(df, periodos, col_matriculas, col_perdida, col_nivel, distr_universitario, distr_tecnologico, distr_tecnico):\n",
    "\n",
    "    mapa_dicc = {\n",
    "        \"UNIVERSITARIO\": distr_universitario,\n",
    "        \"TECNOLOGICO\": distr_tecnologico,\n",
    "        \"FORMACION TECNICA PROFESIONAL\": distr_tecnico\n",
    "    }\n",
    "\n",
    "    for per in periodos:\n",
    "        col_nmat = f\"{per}_N_Matriculado\"\n",
    "        col_out = f\"{per}_%_PERD_CRED\"\n",
    "\n",
    "        def calcular_fila(row):\n",
    "            n_mat = row[col_matriculas]\n",
    "            if n_mat == 0 or pd.isna(n_mat):\n",
    "                return 0\n",
    "\n",
    "            nivel = row[col_nivel]\n",
    "            if nivel not in mapa_dicc:\n",
    "                return 0\n",
    "\n",
    "            dicc = mapa_dicc[nivel]\n",
    "\n",
    "            # Validar que exista clave en el diccionario\n",
    "            if n_mat not in dicc:\n",
    "                return 0\n",
    "\n",
    "            lista_distrib = dicc[n_mat]\n",
    "\n",
    "            # Buscar en la columna de N_Matriculado\n",
    "            valor_n = row[col_nmat]\n",
    "            if pd.isna(valor_n) or valor_n == 0:\n",
    "                return 0\n",
    "\n",
    "            # Índice: valor_n - 1\n",
    "            idx = int(valor_n) - 1\n",
    "            if idx < 0 or idx >= len(lista_distrib):\n",
    "                return 0\n",
    "\n",
    "            return row[col_perdida] * lista_distrib[idx]\n",
    "\n",
    "        df[col_out] = df.apply(calcular_fila, axis=1)\n",
    "\n",
    "    return df\n"
   ]
  },
  {
   "cell_type": "code",
   "execution_count": 67,
   "id": "8548c03a",
   "metadata": {},
   "outputs": [],
   "source": [
    "periodos = [\"20212\",\"20221\",\"20222\",\"20231\",\"20232\",\"20241\",\"20242\",\"20251\", \"20252\"]\n",
    "\n",
    "df_activos = distribuir_perdida(\n",
    "    df=df_activos,\n",
    "    periodos=periodos,\n",
    "    col_matriculas=\"N_Matriculas\",\n",
    "    col_perdida=\"%_PERDIDA\",\n",
    "    col_nivel=\"NIVEL_FORMACION\",\n",
    "    distr_universitario=Distr_universitario,\n",
    "    distr_tecnologico=Distr_tecnologico,\n",
    "    distr_tecnico=Distr_tecnico\n",
    ")\n"
   ]
  },
  {
   "cell_type": "markdown",
   "id": "19c9a90b",
   "metadata": {},
   "source": [
    "DISTRIBUCIÓN DE CRÉDITOS APROBADOS RETROACTIVAMENTE"
   ]
  },
  {
   "cell_type": "code",
   "execution_count": 68,
   "id": "ea9b50a0",
   "metadata": {},
   "outputs": [],
   "source": [
    "def acumular(n):\n",
    "    if n <= 0:\n",
    "        return [], []\n",
    "    \n",
    "    parte = 1 / n\n",
    "    lista = [parte] * n\n",
    "    acumulada = [round(sum(lista[:i+1]), 10) for i in range(n)]\n",
    "    \n",
    "    return acumulada"
   ]
  },
  {
   "cell_type": "code",
   "execution_count": 69,
   "id": "291fceba",
   "metadata": {},
   "outputs": [],
   "source": [
    "\n",
    "Distr_apr_tecnico = {\n",
    "    1:  [1.00],\n",
    "    2:  [0.90, 1.00],\n",
    "    3:  [0.39, 0.74, 1.00],\n",
    "    4:  [0.32, 0.61, 0.82, 1.00],\n",
    "    5:  [0.28, 0.53, 0.71, 0.86, 1.00],\n",
    "    6:  [0.25, 0.47, 0.63, 0.76, 0.89, 1.00],\n",
    "    7:  [0.22, 0.42, 0.57, 0.69, 0.80, 0.90, 1.00],\n",
    "    8:  [0.20, 0.38, 0.52, 0.63, 0.73, 0.82, 0.91, 1.00],\n",
    "    9:  [0.19, 0.35, 0.48, 0.58, 0.67, 0.76, 0.84, 0.92, 1.00],\n",
    "    10: [0.17, 0.33, 0.44, 0.54, 0.63, 0.71, 0.79, 0.86, 0.93, 1.00],\n",
    "    11: [0.16, 0.31, 0.42, 0.51, 0.59, 0.66, 0.74, 0.80, 0.87, 0.94, 1.00],\n",
    "    12: [0.15, 0.29, 0.39, 0.48, 0.55, 0.62, 0.69, 0.76, 0.82, 0.88, 0.94, 1.00]\n",
    "}\n",
    "\n",
    "\n",
    "\n",
    "Distr_apr_tecnologico = {\n",
    "    1:  [1.00],\n",
    "    2:  [0.41, 1.00],\n",
    "    3:  [0.28, 0.69, 1.00],\n",
    "    4:  [0.22, 0.54, 0.79, 1.00],\n",
    "    5:  [0.19, 0.46, 0.66, 0.84, 1.00],\n",
    "    6:  [0.16, 0.40, 0.57, 0.73, 0.87, 1.00],\n",
    "    7:  [0.14, 0.35, 0.51, 0.65, 0.77, 0.89, 1.00],\n",
    "    8:  [0.13, 0.32, 0.46, 0.58, 0.69, 0.80, 0.90, 1.00],\n",
    "    9:  [0.12, 0.29, 0.42, 0.53, 0.63, 0.73, 0.82, 0.91, 1.00],\n",
    "    10: [0.11, 0.27, 0.39, 0.49, 0.58, 0.67, 0.76, 0.84, 0.92, 1.00],\n",
    "    11: [0.10, 0.25, 0.36, 0.45, 0.54, 0.62, 0.70, 0.78, 0.86, 0.93, 1.00],\n",
    "    12: [0.09, 0.23, 0.33, 0.42, 0.51, 0.58, 0.66, 0.73, 0.80, 0.87, 0.93, 1.00],\n",
    "    13: [0.09, 0.22, 0.31, 0.40, 0.48, 0.55, 0.62, 0.68, 0.75, 0.81, 0.88, 0.94, 1.00],\n",
    "    14: [0.08, 0.20, 0.30, 0.38, 0.45, 0.52, 0.58, 0.65, 0.71, 0.77, 0.83, 0.89, 0.94, 1.00],\n",
    "    15: [0.08, 0.19, 0.28, 0.36, 0.42, 0.49, 0.55, 0.61, 0.67, 0.73, 0.78, 0.84, 0.89, 0.95, 1.00],\n",
    "    16: [0.07, 0.18, 0.27, 0.34, 0.40, 0.46, 0.52, 0.58, 0.64, 0.69, 0.74, 0.80, 0.85, 0.90, 0.95, 1.00]\n",
    "}\n",
    "\n",
    "\n",
    "\n",
    "Distr_apr_universitario = {\n",
    "    1:  [1.00],\n",
    "    2:  [0.45, 1.00],\n",
    "    3:  [0.29, 0.64, 1.00],\n",
    "    4:  [0.22, 0.49, 0.77, 1.00],\n",
    "    5:  [0.18, 0.40, 0.63, 0.83, 1.00],\n",
    "    6:  [0.16, 0.35, 0.54, 0.71, 0.861, 1.00],\n",
    "    7:  [0.14, 0.31, 0.48, 0.63, 0.76, 0.88, 1.00],\n",
    "    8:  [0.12, 0.28, 0.43, 0.57, 0.69, 0.80, 0.90, 1.00],\n",
    "    9:  [0.11, 0.25, 0.39, 0.52, 0.62, 0.73, 0.82, 0.91, 1.00],\n",
    "    10: [0.10, 0.23, 0.36, 0.48, 0.58, 0.67, 0.76, 0.84, 0.92, 1.00],\n",
    "    11: [0.10, 0.21, 0.34, 0.44, 0.53, 0.62, 0.70, 0.78, 0.86, 0.93, 1.00],\n",
    "    12: [0.09, 0.20, 0.32, 0.41, 0.50, 0.58, 0.66, 0.73, 0.80, 0.87, 0.93, 1.00],\n",
    "    13: [0.08, 0.19, 0.30, 0.39, 0.47, 0.54, 0.62, 0.68, 0.75, 0.81, 0.88, 0.94, 1.00],\n",
    "    14: [0.08, 0.18, 0.28, 0.37, 0.44, 0.51, 0.58, 0.65, 0.71, 0.77, 0.83, 0.89, 0.94, 1.00],\n",
    "    15: [0.08, 0.17, 0.26, 0.35, 0.42, 0.49, 0.55, 0.61, 0.67, 0.73, 0.78, 0.84, 0.89, 0.95, 1.00],\n",
    "    16: [0.07, 0.16, 0.25, 0.33, 0.40, 0.46, 0.52, 0.58, 0.64, 0.69, 0.75, 0.80, 0.85, 0.90, 0.95, 1.00],\n",
    "    17: [0.07, 0.15, 0.24, 0.31, 0.38, 0.44, 0.50, 0.55, 0.61, 0.66, 0.71, 0.76, 0.81, 0.86, 0.91, 0.95, 1.00],\n",
    "    18: [0.07, 0.15, 0.23, 0.30, 0.36, 0.42, 0.48, 0.53, 0.58, 0.63, 0.68, 0.73, 0.77, 0.82, 0.87, 0.91, 0.96, 1.00]\n",
    "}\n",
    "\n"
   ]
  },
  {
   "cell_type": "code",
   "execution_count": 70,
   "id": "d0def343",
   "metadata": {},
   "outputs": [],
   "source": [
    "def distribuir_apro(df, periodos, col_matriculas, col_aprobado, col_nivel, distr_universitario, distr_tecnologico, distr_tecnico):\n",
    "\n",
    "    mapa_dicc = {\n",
    "        \"UNIVERSITARIO\": distr_universitario,\n",
    "        \"TECNOLOGICO\": distr_tecnologico,\n",
    "        \"FORMACION TECNICA PROFESIONAL\": distr_tecnico\n",
    "    }\n",
    "\n",
    "    for per in periodos:\n",
    "        col_nmat = f\"{per}_N_Matriculado\"\n",
    "        col_out = f\"{per}_%_APROB_CRED\"\n",
    "\n",
    "        def calcular_fila(row):\n",
    "            n_mat = row[col_matriculas]\n",
    "            if n_mat == 0 or pd.isna(n_mat):\n",
    "                return 0\n",
    "\n",
    "            nivel = row[col_nivel]\n",
    "            if nivel not in mapa_dicc:\n",
    "                return 0\n",
    "\n",
    "            dicc = mapa_dicc[nivel]\n",
    "\n",
    "            # Validar que exista clave en el diccionario\n",
    "            if n_mat not in dicc:\n",
    "                return 0\n",
    "\n",
    "            lista_distrib = dicc[n_mat]\n",
    "\n",
    "            # Buscar en la columna de N_Matriculado\n",
    "            valor_n = row[col_nmat]\n",
    "            if pd.isna(valor_n) or valor_n == 0:\n",
    "                return 0\n",
    "\n",
    "            # Índice: valor_n - 1\n",
    "            idx = int(valor_n) - 1\n",
    "            if idx < 0 or idx >= len(lista_distrib):\n",
    "                return 0\n",
    "\n",
    "            return row[col_aprobado] * lista_distrib[idx]\n",
    "\n",
    "        df[col_out] = df.apply(calcular_fila, axis=1)\n",
    "\n",
    "    return df"
   ]
  },
  {
   "cell_type": "code",
   "execution_count": 71,
   "id": "51ed0354",
   "metadata": {},
   "outputs": [],
   "source": [
    "periodos = [\"20212\",\"20221\",\"20222\",\"20231\",\"20232\",\"20241\",\"20242\",\"20251\", \"20252\"]\n",
    "\n",
    "df_activos = distribuir_apro(\n",
    "    df=df_activos,\n",
    "    periodos=periodos,\n",
    "    col_matriculas=\"N_Matriculas\",\n",
    "    col_aprobado=\"%_AVANCE_APROBACION\",\n",
    "    col_nivel=\"NIVEL_FORMACION\",\n",
    "    distr_universitario=Distr_apr_universitario,\n",
    "    distr_tecnologico=Distr_apr_tecnologico,\n",
    "    distr_tecnico=Distr_apr_tecnico\n",
    ")"
   ]
  },
  {
   "cell_type": "code",
   "execution_count": 72,
   "id": "534b239c",
   "metadata": {},
   "outputs": [
    {
     "name": "stdout",
     "output_type": "stream",
     "text": [
      "20212_ESTADO ['Abandono', 'Aplazado', 'Matriculado', 'No aplica']\n",
      "20221_ESTADO ['Abandono', 'Aplazado', 'Matriculado', 'No aplica']\n",
      "20222_ESTADO ['Abandono', 'Aplazado', 'Matriculado', 'No aplica', 'Pérdida del Beneficio']\n",
      "20231_ESTADO ['Abandono', 'Aplazado', 'Graduado', 'Matriculado', 'No aplica', 'Pérdida del Beneficio']\n",
      "20232_ESTADO ['Abandono', 'Aplazado', 'Graduado', 'Matriculado', 'No aplica', 'Pérdida del Beneficio', 'Sin bolsa de creditos']\n",
      "20241_ESTADO ['Abandono', 'Aplazado', 'Graduado', 'Matriculado', 'No aplica', 'Pérdida del Beneficio', 'Sin bolsa de creditos']\n",
      "20242_ESTADO ['Abandono', 'Aplazado', 'Graduado', 'Matriculado', 'No aplica', 'Pérdida del Beneficio', 'Sin bolsa de creditos']\n",
      "20251_ESTADO ['Abandono', 'Aplazado', 'Graduado', 'Matriculado', 'No aplica', 'Pérdida del Beneficio', 'Sin bolsa de creditos']\n",
      "20252_ESTADO ['Abandono', 'Aplazado', 'En Verificacion', 'Graduado', 'Matriculado', 'Pérdida del Beneficio']\n"
     ]
    }
   ],
   "source": [
    "# Opcional: verificar los valores únicos después del reemplazo\n",
    "for col in [\"20212_ESTADO\",\"20221_ESTADO\",\"20222_ESTADO\",\"20231_ESTADO\",\"20232_ESTADO\",\"20241_ESTADO\",\"20242_ESTADO\",\"20251_ESTADO\", \"20252_ESTADO\"]:\n",
    "    print(col, sorted(df_activos[col].dropna().unique()))"
   ]
  },
  {
   "cell_type": "code",
   "execution_count": 73,
   "id": "222f0e13",
   "metadata": {},
   "outputs": [],
   "source": [
    "import re\n",
    "import numpy as np\n",
    "import pandas as pd\n",
    "from functools import reduce"
   ]
  },
  {
   "cell_type": "code",
   "execution_count": 74,
   "id": "b3242df3",
   "metadata": {},
   "outputs": [],
   "source": [
    "ID_COL = \"DOCUMENTO\"\n",
    "\n",
    "VAR_SOCIOECO = ['NIVEL_SISBEN_4', 'SEXO', 'GRUPO_ETNICO', 'HIJOS']\n",
    "VAR_ACADEMICA = ['SABER11_PUNTAJE_GLOBAL']\n",
    "VAR_PROGRAMA  = [\"SNIES_IES\", \"IES_NOMBRE\", \"SNIES_PROGRAMA\", \"PROGRAMA\",\"TIPO_IES\",\"FUENTE_TERRITORIAL\", \"CONVENIO_FDL\", \"FUENTE_FINANCIACION_ACCESO\", \"FUENTE_FINANCIACION_APOYOS\", 'NIVEL_FORMACION', 'CINE_CAMPO_AMPLIO', 'MODALIDAD', \"CONVOCATORIA\", \"PERIODOS_BD_SNIES\", \"CREDITOS_PROGRAMA\"]\n",
    "\n",
    "VAR_ESTADOS = ['20212_ESTADO','20221_ESTADO','20222_ESTADO','20231_ESTADO',\n",
    "               '20232_ESTADO','20241_ESTADO','20242_ESTADO','20251_ESTADO', \"20252_ESTADO\"]\n",
    "\n",
    "VAR_ESTADOS_INICIO = ['20212_ESTADO_INICIO','20221_ESTADO_INICIO','20222_ESTADO_INICIO','20231_ESTADO_INICIO',\n",
    "               '20232_ESTADO_INICIO','20241_ESTADO_INICIO','20242_ESTADO_INICIO','20251_ESTADO_INICIO', \"20252_ESTADO_INICIO\"]\n",
    "\n",
    "\n",
    "VAR_CRED_PERDIDOS = ['20212_%_PERD_CRED','20221_%_PERD_CRED','20222_%_PERD_CRED',\n",
    "                     '20231_%_PERD_CRED','20232_%_PERD_CRED','20241_%_PERD_CRED',\n",
    "                     '20242_%_PERD_CRED','20251_%_PERD_CRED', '20252_%_PERD_CRED']\n",
    "\n",
    "VAR_CRED_APROBADOS = ['20212_%_APROB_CRED','20221_%_APROB_CRED','20222_%_APROB_CRED',\n",
    "                      '20231_%_APROB_CRED','20232_%_APROB_CRED','20241_%_APROB_CRED',\n",
    "                      '20242_%_APROB_CRED','20251_%_APROB_CRED', '20252_%_APROB_CRED' ]\n",
    "\n",
    "\n",
    "\n",
    "\n",
    "\n",
    "\n",
    "N_Aplazado = [\n",
    "    \"20212_N_Aplazado\",\n",
    "    \"20221_N_Aplazado\",\n",
    "    \"20222_N_Aplazado\",\n",
    "    \"20231_N_Aplazado\",\n",
    "    \"20232_N_Aplazado\",\n",
    "    \"20241_N_Aplazado\",\n",
    "    \"20242_N_Aplazado\",\n",
    "    \"20251_N_Aplazado\",\n",
    "    \"20252_N_Aplazado\"]\n",
    "\n",
    "\n",
    "N_Matriculado = [\n",
    "    \"20212_N_Matriculado\",\n",
    "    \"20221_N_Matriculado\",\n",
    "    \"20222_N_Matriculado\",\n",
    "    \"20231_N_Matriculado\",\n",
    "    \"20232_N_Matriculado\",\n",
    "    \"20241_N_Matriculado\",\n",
    "    \"20242_N_Matriculado\",\n",
    "    \"20251_N_Matriculado\",\n",
    "    \"20252_N_Matriculado\"]\n",
    "\n",
    "\n",
    "N_Abandono = [\n",
    "    \"20212_N_Abandono\",\n",
    "    \"20221_N_Abandono\",\n",
    "    \"20222_N_Abandono\",\n",
    "    \"20231_N_Abandono\",\n",
    "    \"20232_N_Abandono\",\n",
    "    \"20241_N_Abandono\",\n",
    "    \"20242_N_Abandono\",\n",
    "    \"20251_N_Abandono\",\n",
    "    \"20252_N_Abandono\"\n",
    "]\n",
    "\n",
    "\n",
    "N_Sin_bolsa_de_créditos = [\n",
    "    \"20212_N_Sin bolsa de creditos\",\n",
    "    \"20221_N_Sin bolsa de creditos\",\n",
    "    \"20222_N_Sin bolsa de creditos\",\n",
    "    \"20231_N_Sin bolsa de creditos\",\n",
    "    \"20232_N_Sin bolsa de creditos\",\n",
    "    \"20241_N_Sin bolsa de creditos\",\n",
    "    \"20242_N_Sin bolsa de creditos\",\n",
    "    \"20251_N_Sin bolsa de creditos\",\n",
    "    \"20252_N_Sin bolsa de creditos\"]\n",
    "\n",
    "\n",
    "N_Pérdida_del_beneficio\t= [\n",
    "    \"20212_N_Pérdida del Beneficio\",\n",
    "    \"20221_N_Pérdida del Beneficio\",\n",
    "    \"20222_N_Pérdida del Beneficio\",\n",
    "    \"20231_N_Pérdida del Beneficio\",\n",
    "    \"20232_N_Pérdida del Beneficio\",\n",
    "    \"20241_N_Pérdida del Beneficio\",\n",
    "    \"20242_N_Pérdida del Beneficio\",\n",
    "    \"20251_N_Pérdida del Beneficio\",\n",
    "    \"20252_N_Pérdida del Beneficio\"]\n",
    "\n",
    "N_Graduado = [\n",
    "    \"20212_N_Graduado\",\n",
    "    \"20221_N_Graduado\",\n",
    "    \"20222_N_Graduado\",\n",
    "    \"20231_N_Graduado\",\n",
    "    \"20232_N_Graduado\",\n",
    "    \"20241_N_Graduado\",\n",
    "    \"20242_N_Graduado\",\n",
    "    \"20251_N_Graduado\",\n",
    "    \"20252_N_Graduado\"\n",
    "]\n",
    "\n",
    "N_Matriculas_adicionales = [\n",
    "    \"20212_N_Matriculas_adicionales\",\n",
    "    \"20221_N_Matriculas_adicionales\",\n",
    "    \"20222_N_Matriculas_adicionales\",\n",
    "    \"20231_N_Matriculas_adicionales\",\n",
    "    \"20232_N_Matriculas_adicionales\",\n",
    "    \"20241_N_Matriculas_adicionales\",\n",
    "    \"20242_N_Matriculas_adicionales\",\n",
    "    \"20251_N_Matriculas_adicionales\",\n",
    "    \"20252_N_Matriculas_adicionales\"]\n",
    "\n"
   ]
  },
  {
   "cell_type": "code",
   "execution_count": 75,
   "id": "b8188c08",
   "metadata": {},
   "outputs": [],
   "source": [
    "import re\n",
    "import numpy as np\n",
    "import pandas as pd\n",
    "from functools import reduce\n",
    "\n",
    "def _melt_block(df, value_cols, value_name):\n",
    "    keep = [c for c in [ID_COL] + VAR_SOCIOECO + VAR_ACADEMICA + VAR_PROGRAMA if c in df.columns]\n",
    "    temp = df[keep + value_cols].melt(\n",
    "        id_vars=keep,\n",
    "        value_vars=value_cols,\n",
    "        var_name=\"col_src\",\n",
    "        value_name=value_name\n",
    "    )\n",
    "    temp[\"periodo_key\"] = temp[\"col_src\"].str.extract(r'(\\d{5})')\n",
    "    temp = temp.drop(columns=[\"col_src\"])\n",
    "    return temp\n",
    "\n",
    "def _to_prop(s):\n",
    "    x = pd.to_numeric(s, errors=\"coerce\")\n",
    "    return np.where(x > 1, x/100.0, x)\n",
    "\n",
    "def _periodo_parse(pkey):\n",
    "    pkey = str(pkey)\n",
    "    anio = int(pkey[:4])\n",
    "    sem = int(pkey[4])\n",
    "    return anio, sem, int(pkey), f\"{anio}-{sem}\"\n",
    "\n",
    "def pivot_to_panel(df):\n",
    "    ruido = [c for c in df.columns if re.fullmatch(r\"x(\\.\\d+)?\", c)]\n",
    "    if ruido:\n",
    "        df = df.drop(columns=ruido)\n",
    "\n",
    "    # Bloques wide → long\n",
    "    long_estado_inicial   = _melt_block(df, VAR_ESTADOS_INICIO, \"estado_inicial\")\n",
    "    long_estado   = _melt_block(df, VAR_ESTADOS, \"estado\")\n",
    "    long_perd     = _melt_block(df, VAR_CRED_PERDIDOS, \"pct_perd_acum\")\n",
    "    long_aprb     = _melt_block(df, VAR_CRED_APROBADOS, \"pct_aprob_acum\")\n",
    "    long_aplaz    = _melt_block(df, N_Aplazado, \"N_Aplazado\")\n",
    "    long_matr     = _melt_block(df, N_Matriculado, \"N_Matriculado\")\n",
    "    long_aband    = _melt_block(df, N_Abandono, \"N_Abandono\")\n",
    "    long_sinbolsa = _melt_block(df, N_Sin_bolsa_de_créditos, \"N_Sin_bolsa_de_creditos\")\n",
    "    long_perdbene = _melt_block(df, N_Pérdida_del_beneficio, \"N_Pérdida_del_beneficio\")\n",
    "    long_matradi  = _melt_block(df, N_Matriculas_adicionales, \"N_Matriculas_adicionales\")\n",
    "    long_grad     = _melt_block(df, N_Graduado, \"N_Graduado\")   # 👈 agregado\n",
    "\n",
    "    # Merge todos los bloques\n",
    "    id_keys = [c for c in [ID_COL] + VAR_SOCIOECO + VAR_ACADEMICA + VAR_PROGRAMA if c in df.columns] + [\"periodo_key\"]\n",
    "    panel = reduce(\n",
    "        lambda L, R: pd.merge(L, R, on=id_keys, how=\"outer\"),\n",
    "        [long_estado_inicial, long_estado, long_perd, long_aprb, long_aplaz, long_matr,\n",
    "         long_aband, long_sinbolsa, long_perdbene, long_matradi, long_grad]  # 👈 agregado\n",
    "    )\n",
    "\n",
    "    # Normalizar % a proporciones\n",
    "    for col in [\"pct_perd_acum\", \"pct_aprob_acum\"]:\n",
    "        if col in panel.columns:\n",
    "            panel[col] = _to_prop(panel[col])\n",
    "\n",
    "    # Parsear periodos\n",
    "    parsed = panel[\"periodo_key\"].dropna().astype(str).apply(_periodo_parse)\n",
    "    panel[\"anio\"], panel[\"sem\"], panel[\"periodo_orden\"], panel[\"periodo_cal\"] = zip(*parsed)\n",
    "    panel[[\"anio\",\"sem\",\"periodo_orden\"]] = panel[[\"anio\",\"sem\",\"periodo_orden\"]].astype(\"Int64\")\n",
    "\n",
    "    # Ordenar\n",
    "    panel = panel.sort_values([ID_COL, \"periodo_orden\"])\n",
    "    panel[\"t\"] = panel.groupby(ID_COL).cumcount() + 1\n",
    "    panel[\"estado_next\"] = panel.groupby(ID_COL)[\"estado\"].shift(-1)\n",
    "\n",
    "    # Filtrar filas vacías\n",
    "    info_cols = [\"estado\",\"pct_perd_acum\",\"pct_aprob_acum\"]\n",
    "    panel = panel.dropna(subset=info_cols, how=\"all\").reset_index(drop=True)\n",
    "\n",
    "    # Tipos\n",
    "    for c in [*VAR_SOCIOECO, *VAR_PROGRAMA]:\n",
    "        if c in panel.columns:\n",
    "            panel[c] = panel[c].astype(\"category\")\n",
    "    if \"estado\" in panel.columns:\n",
    "        panel[\"estado\"] = panel[\"estado\"].astype(\"category\")\n",
    "    if \"estado_next\" in panel.columns:\n",
    "        panel[\"estado_next\"] = panel[\"estado_next\"].astype(\"category\")\n",
    "\n",
    "    return panel\n",
    "\n",
    "# Uso\n",
    "panel = pivot_to_panel(df_activos)\n",
    "panel = panel.drop(columns=[\"periodo_orden\", \"periodo_cal\", \"anio\", \"sem\"])\n"
   ]
  },
  {
   "cell_type": "code",
   "execution_count": 76,
   "id": "a400e549",
   "metadata": {},
   "outputs": [],
   "source": [
    "panel[\"periodo_orden\"] = panel[\"t\"] - panel.groupby(\"DOCUMENTO\")[\"estado\"].transform(lambda x: (x == \"No aplica\").sum())\n",
    "df_filtrado = panel[panel[\"periodo_orden\"] >= 1].copy()"
   ]
  },
  {
   "cell_type": "code",
   "execution_count": 77,
   "id": "885223eb",
   "metadata": {},
   "outputs": [],
   "source": [
    "df_filtrado[\"N_Periodos_adicionales\"] = (\n",
    "    df_filtrado[\"periodo_orden\"].astype(int) \n",
    "    - df_filtrado[\"PERIODOS_BD_SNIES\"].astype(int)\n",
    ").clip(lower=0)"
   ]
  },
  {
   "cell_type": "code",
   "execution_count": 78,
   "id": "3d339b37",
   "metadata": {},
   "outputs": [],
   "source": [
    "df_filtrado = df_filtrado.drop(columns=['t'])"
   ]
  },
  {
   "cell_type": "code",
   "execution_count": null,
   "id": "60837f1b",
   "metadata": {},
   "outputs": [],
   "source": [
    "# Para las filas que no sean \"JE3\" en \"CONVOCATORIA\" eliminar \"periodo_key\" igual a 20252\n",
    "\n",
    "df_filtrado = df_filtrado[~(\n",
    "    (df_filtrado[\"CONVOCATORIA\"] != \"JE3\") &\n",
    "    (df_filtrado[\"periodo_key\"] == \"20252\")\n",
    ")]"
   ]
  },
  {
   "cell_type": "code",
   "execution_count": 81,
   "id": "d7b0a294",
   "metadata": {},
   "outputs": [],
   "source": [
    "df_filtrado.to_excel(r\"D:\\Proyecto_proyección_estados\\3. Panel\\panel_estudiantes_v12-15-10-2025.xlsx\", index=False)"
   ]
  }
 ],
 "metadata": {
  "kernelspec": {
   "display_name": "base",
   "language": "python",
   "name": "python3"
  },
  "language_info": {
   "codemirror_mode": {
    "name": "ipython",
    "version": 3
   },
   "file_extension": ".py",
   "mimetype": "text/x-python",
   "name": "python",
   "nbconvert_exporter": "python",
   "pygments_lexer": "ipython3",
   "version": "3.13.5"
  }
 },
 "nbformat": 4,
 "nbformat_minor": 5
}
